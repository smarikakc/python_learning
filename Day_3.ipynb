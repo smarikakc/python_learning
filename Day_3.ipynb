{
  "nbformat": 4,
  "nbformat_minor": 0,
  "metadata": {
    "colab": {
      "provenance": [],
      "authorship_tag": "ABX9TyMRnFAURAC22ZS/1itQ6Y7B",
      "include_colab_link": true
    },
    "kernelspec": {
      "name": "python3",
      "display_name": "Python 3"
    },
    "language_info": {
      "name": "python"
    }
  },
  "cells": [
    {
      "cell_type": "markdown",
      "metadata": {
        "id": "view-in-github",
        "colab_type": "text"
      },
      "source": [
        "<a href=\"https://colab.research.google.com/github/smarikakc/python_learning/blob/main/Day_3.ipynb\" target=\"_parent\"><img src=\"https://colab.research.google.com/assets/colab-badge.svg\" alt=\"Open In Colab\"/></a>"
      ]
    },
    {
      "cell_type": "code",
      "execution_count": 4,
      "metadata": {
        "colab": {
          "base_uri": "https://localhost:8080/"
        },
        "id": "NlMn0YcsJhZ5",
        "outputId": "89a26f40-ea7f-49bf-b815-c2d75383ec62"
      },
      "outputs": [
        {
          "output_type": "stream",
          "name": "stdout",
          "text": [
            "enter first name:yogesh\n",
            "enter second name:bhattarai\n",
            "Incorrect\n"
          ]
        }
      ],
      "source": [
        "First=input(\"enter first name:\")\n",
        "Second=input(\"enter second name:\")\n",
        "if((First==\"Yogesh\")&(Second==\"Bhattarai\")):\n",
        "   print(\"Correct\")\n",
        "else:\n",
        "   print(\"Incorrect\")"
      ]
    },
    {
      "cell_type": "code",
      "source": [
        "first=input(\"enter first name:\")\n",
        "second=input(\"enter second name:\")\n",
        "if((first==\"Smarika\")&(second==\"K.C.\")):\n",
        "   print(\"correct\")\n",
        "else:\n",
        "  print(\"Incorrect\")"
      ],
      "metadata": {
        "colab": {
          "base_uri": "https://localhost:8080/"
        },
        "id": "EoaAGs91LbgB",
        "outputId": "fd59fe28-7a55-4595-8094-04090def2bd1"
      },
      "execution_count": 5,
      "outputs": [
        {
          "output_type": "stream",
          "name": "stdout",
          "text": [
            "enter first name:Smarika\n",
            "enter second name:K.C.\n",
            "correct\n"
          ]
        }
      ]
    },
    {
      "cell_type": "code",
      "source": [
        "name=input(\"First name:\")\n",
        "age=input(\"enter age:\")\n",
        "work=input(\"enter work:\")\n",
        "print(f\"My name {name},my age {age} and my work is{work}\")\n"
      ],
      "metadata": {
        "colab": {
          "base_uri": "https://localhost:8080/"
        },
        "id": "SJLuBp7qM5O9",
        "outputId": "084bbe09-3b2b-4014-e3ee-8c1ffd4d7afd"
      },
      "execution_count": 11,
      "outputs": [
        {
          "output_type": "stream",
          "name": "stdout",
          "text": [
            "First name:Kalpana Bohora\n",
            "enter age:20\n",
            "enter work:to show the creativity that i learned from the UI/UX.\n",
            "My name Kalpana Bohora,my age 20 and my work isto show the creativity that i learned from the UI/UX.\n"
          ]
        }
      ]
    },
    {
      "cell_type": "code",
      "source": [
        "percent=int(input(\"enter percentage\"))\n",
        "if(percent>=100):\n",
        "  print(\"Grade A+\")\n",
        "elif(percent>=70):\n",
        "  print(\"Grade B+\")\n",
        "elif(percent<=50):\n",
        "  print(\"Grade C\")\n",
        "else:\n",
        "  print(\"Grade E\")\n"
      ],
      "metadata": {
        "colab": {
          "base_uri": "https://localhost:8080/"
        },
        "id": "5PMqgmqgV3Dn",
        "outputId": "b8ed84a0-3b9f-48ab-e917-15eb1ba13dca"
      },
      "execution_count": 20,
      "outputs": [
        {
          "output_type": "stream",
          "name": "stdout",
          "text": [
            "enter percentage 66\n",
            "Grade E\n"
          ]
        }
      ]
    },
    {
      "cell_type": "code",
      "source": [
        "prinxt=input(\"Enter the colour:\")\n",
        "sky=input(\"Enter device:\")\n",
        "print(f\"the color is {prinxt} and the device is{sky}\")"
      ],
      "metadata": {
        "colab": {
          "base_uri": "https://localhost:8080/",
          "height": 211
        },
        "id": "kaAPQvw7oTyI",
        "outputId": "1e8bcbd2-1ae0-40a8-f55e-1b69a849e03f"
      },
      "execution_count": 3,
      "outputs": [
        {
          "name": "stdout",
          "output_type": "stream",
          "text": [
            "Enter the colour:tfft\n",
            "Enter device:vgy\n"
          ]
        },
        {
          "output_type": "error",
          "ename": "TypeError",
          "evalue": "'str' object is not callable",
          "traceback": [
            "\u001b[0;31m---------------------------------------------------------------------------\u001b[0m",
            "\u001b[0;31mTypeError\u001b[0m                                 Traceback (most recent call last)",
            "\u001b[0;32m/tmp/ipython-input-3-2123191260.py\u001b[0m in \u001b[0;36m<cell line: 0>\u001b[0;34m()\u001b[0m\n\u001b[1;32m      1\u001b[0m \u001b[0mprinxt\u001b[0m\u001b[0;34m=\u001b[0m\u001b[0minput\u001b[0m\u001b[0;34m(\u001b[0m\u001b[0;34m\"Enter the colour:\"\u001b[0m\u001b[0;34m)\u001b[0m\u001b[0;34m\u001b[0m\u001b[0;34m\u001b[0m\u001b[0m\n\u001b[1;32m      2\u001b[0m \u001b[0msky\u001b[0m\u001b[0;34m=\u001b[0m\u001b[0minput\u001b[0m\u001b[0;34m(\u001b[0m\u001b[0;34m\"Enter device:\"\u001b[0m\u001b[0;34m)\u001b[0m\u001b[0;34m\u001b[0m\u001b[0;34m\u001b[0m\u001b[0m\n\u001b[0;32m----> 3\u001b[0;31m \u001b[0mprint\u001b[0m\u001b[0;34m(\u001b[0m\u001b[0;34mf\"the color is {prinxt} and the device is{sky}\"\u001b[0m\u001b[0;34m)\u001b[0m\u001b[0;34m\u001b[0m\u001b[0;34m\u001b[0m\u001b[0m\n\u001b[0m",
            "\u001b[0;31mTypeError\u001b[0m: 'str' object is not callable"
          ]
        }
      ]
    },
    {
      "cell_type": "code",
      "source": [],
      "metadata": {
        "id": "oFjXu7SZ7vme"
      },
      "execution_count": null,
      "outputs": []
    },
    {
      "cell_type": "markdown",
      "source": [],
      "metadata": {
        "id": "wV_yrxS783Rn"
      }
    }
  ]
}