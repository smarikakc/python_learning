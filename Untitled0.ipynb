{
  "nbformat": 4,
  "nbformat_minor": 0,
  "metadata": {
    "colab": {
      "provenance": [],
      "authorship_tag": "ABX9TyPDJ51cRA7J4nYW0A/eDPhO",
      "include_colab_link": true
    },
    "kernelspec": {
      "name": "python3",
      "display_name": "Python 3"
    },
    "language_info": {
      "name": "python"
    }
  },
  "cells": [
    {
      "cell_type": "markdown",
      "metadata": {
        "id": "view-in-github",
        "colab_type": "text"
      },
      "source": [
        "<a href=\"https://colab.research.google.com/github/smarikakc/python_learning/blob/main/Untitled0.ipynb\" target=\"_parent\"><img src=\"https://colab.research.google.com/assets/colab-badge.svg\" alt=\"Open In Colab\"/></a>"
      ]
    },
    {
      "cell_type": "code",
      "execution_count": 2,
      "metadata": {
        "colab": {
          "base_uri": "https://localhost:8080/"
        },
        "id": "MfeZaaviPTPg",
        "outputId": "e6773450-d49d-4c32-83ac-672dbae5d25e"
      },
      "outputs": [
        {
          "output_type": "stream",
          "name": "stdout",
          "text": [
            "enter percentge:93\n",
            "Grde A\n"
          ]
        }
      ],
      "source": [
        "percent= int(input(\"enter percentge:\"))\n",
        "if(percent>=90):\n",
        "  print(\"Grde A\")\n",
        "elif(percent>=80):\n",
        "  print(\"Grde B\")\n",
        "elif(percent>=70):\n",
        "  print(\"Grde C\")\n",
        "elif(percent>=60):\n",
        "  print(\"Grde D\")\n",
        "else:\n",
        "  print(\"Grde E\")"
      ]
    },
    {
      "cell_type": "code",
      "source": [
        "percent=int(input(\"enter percentage\"))\n",
        "if(percent>95):\n",
        "  print(\"Grade A+\")\n",
        "elif(percent>=80):\n",
        "  print(\"Grade B+\")\n",
        "elif(percent>=75):\n",
        "  print(\"Grade c+\")\n",
        "elif(percent>=60):\n",
        "  print(\"Grade D+\")\n",
        "else:\n",
        "  print(\"Grade E\")\n",
        "\n"
      ],
      "metadata": {
        "colab": {
          "base_uri": "https://localhost:8080/"
        },
        "id": "tGnYddj2QXnP",
        "outputId": "7e7f0948-6c60-4614-d513-8ebb17e6ab25"
      },
      "execution_count": 7,
      "outputs": [
        {
          "output_type": "stream",
          "name": "stdout",
          "text": [
            "enter percentage 77\n",
            "Grade c+\n"
          ]
        }
      ]
    },
    {
      "cell_type": "code",
      "source": [],
      "metadata": {
        "id": "3rV6a6pdiJS8"
      },
      "execution_count": 6,
      "outputs": []
    }
  ]
}