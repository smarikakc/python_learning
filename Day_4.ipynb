{
  "nbformat": 4,
  "nbformat_minor": 0,
  "metadata": {
    "colab": {
      "provenance": [],
      "authorship_tag": "ABX9TyNYQHCDcwkS7rS6anp6R6Nr",
      "include_colab_link": true
    },
    "kernelspec": {
      "name": "python3",
      "display_name": "Python 3"
    },
    "language_info": {
      "name": "python"
    }
  },
  "cells": [
    {
      "cell_type": "markdown",
      "metadata": {
        "id": "view-in-github",
        "colab_type": "text"
      },
      "source": [
        "<a href=\"https://colab.research.google.com/github/smarikakc/python_learning/blob/main/Day_4.ipynb\" target=\"_parent\"><img src=\"https://colab.research.google.com/assets/colab-badge.svg\" alt=\"Open In Colab\"/></a>"
      ]
    },
    {
      "cell_type": "code",
      "execution_count": null,
      "metadata": {
        "colab": {
          "base_uri": "https://localhost:8080/"
        },
        "id": "0PsgzwIKa2Nq",
        "outputId": "aa22cfd4-9216-46da-e117-f5e98c123ae5"
      },
      "outputs": [
        {
          "output_type": "stream",
          "name": "stdout",
          "text": [
            "Muskan K.c\n"
          ]
        }
      ],
      "source": [
        "x=\"Muskan\"\n",
        "y=\"K.c\"\n",
        "s=x+\" \"+y\n",
        "print(s)"
      ]
    },
    {
      "cell_type": "code",
      "source": [
        "Name=(\"Muskan\")\n",
        "cast=(\"K.C.\")\n",
        "s=Name+\" \"+cast\n",
        "print(\"The full name is:\",s)\n",
        "\n"
      ],
      "metadata": {
        "id": "qj8HYdR5bccO",
        "colab": {
          "base_uri": "https://localhost:8080/"
        },
        "outputId": "ea3e24a1-1079-4de5-f2aa-e09d35cb2d8d"
      },
      "execution_count": null,
      "outputs": [
        {
          "output_type": "stream",
          "name": "stdout",
          "text": [
            "The full name is: Muskan K.C.\n"
          ]
        }
      ]
    },
    {
      "cell_type": "code",
      "source": [
        "Name=input(\"enter the name:\")\n",
        "age=input(\"enter the age:\")\n",
        "work=input(\"enter the work:\")\n",
        "print(f\"My name is {Name}, my age is {age}, and my work is {work}\")"
      ],
      "metadata": {
        "colab": {
          "base_uri": "https://localhost:8080/"
        },
        "id": "Arau3_8RdsNA",
        "outputId": "178fb5e8-fff4-43da-d4fe-3a2dfd97342e"
      },
      "execution_count": null,
      "outputs": [
        {
          "output_type": "stream",
          "name": "stdout",
          "text": [
            "enter the name: Muskan \n",
            "enter the age: K.C.\n",
            "enter the work: Data Analysis\n",
            "My name is  Muskan , my age is  K.C., and my work is  Data Analysis\n"
          ]
        }
      ]
    },
    {
      "cell_type": "code",
      "source": [
        "name=input(\"enter the name:\")\n",
        "if(name==\"Muskan\"):\n",
        "  print(f\"correct spelled {name}\")\n",
        "else:\n",
        "  print(f\"incorrect spelled {name}\")"
      ],
      "metadata": {
        "colab": {
          "base_uri": "https://localhost:8080/"
        },
        "id": "MtPESQPqffi_",
        "outputId": "0bc3608c-b5cb-4c4e-8e32-bcc7072f0d4e"
      },
      "execution_count": null,
      "outputs": [
        {
          "output_type": "stream",
          "name": "stdout",
          "text": [
            "enter the name:smarika\n",
            "incorrect spelled smarika\n"
          ]
        }
      ]
    },
    {
      "cell_type": "code",
      "source": [
        "color=input(\"enter the color:\")\n",
        "if(color==\"red\"):\n",
        "  print(f\"correct spelled {color}\")\n",
        "else:\n",
        "  print(f\"incorrect spelled {color}\")\n"
      ],
      "metadata": {
        "colab": {
          "base_uri": "https://localhost:8080/"
        },
        "id": "kiT4n5z5hFm8",
        "outputId": "cec6c2c5-9d49-4475-bc13-373f7069e5f5"
      },
      "execution_count": null,
      "outputs": [
        {
          "output_type": "stream",
          "name": "stdout",
          "text": [
            "enter the color:red\n",
            "correct spelled red\n"
          ]
        }
      ]
    },
    {
      "cell_type": "code",
      "source": [
        "first=input(\"enter first name:\")\n",
        "second=input(\"enter second name:\")\n",
        "if(first==\"Bebo\") & (second==\"K.C\"):\n",
        "  print(f\"correct spelled name\")\n",
        "else:\n",
        "  print(f\"incorrect spelled name\")"
      ],
      "metadata": {
        "colab": {
          "base_uri": "https://localhost:8080/"
        },
        "id": "909JMTFziI_n",
        "outputId": "5c85410a-cac6-4fa7-e397-3869217ce6ee"
      },
      "execution_count": null,
      "outputs": [
        {
          "output_type": "stream",
          "name": "stdout",
          "text": [
            "enter first name:Bebo\n",
            "enter second name:k.c.\n",
            "incorrect spelled name\n"
          ]
        }
      ]
    },
    {
      "cell_type": "code",
      "source": [
        "age=int(input(\"enter the age\"))\n",
        "if(age>=18):\n",
        "  print(\"eligible to to vote\")\n",
        "else:\n",
        "  print(\"not eligible to vote\")\n"
      ],
      "metadata": {
        "colab": {
          "base_uri": "https://localhost:8080/"
        },
        "id": "gL1XN5zGjE2n",
        "outputId": "c79f5074-fafc-43f0-dbec-41a2bade3dc6"
      },
      "execution_count": null,
      "outputs": [
        {
          "output_type": "stream",
          "name": "stdout",
          "text": [
            "enter the age 10\n",
            "not eligible to vote\n"
          ]
        }
      ]
    },
    {
      "cell_type": "code",
      "source": [
        "percent=int(input(\"enter the percentage\"))\n",
        "if(percent>=100):\n",
        "  print(\"Grade A+\")\n",
        "elif(percent>=80):\n",
        "  print(\"Grade A\")\n",
        "elif(percent>=50):\n",
        "  print(\"Grade B+\")\n",
        "else:\n",
        "  print(\"Grade C\")"
      ],
      "metadata": {
        "colab": {
          "base_uri": "https://localhost:8080/"
        },
        "id": "aaKZz-eIkpFX",
        "outputId": "162f3e73-77fb-49ba-d4b7-80298f8c9de3"
      },
      "execution_count": null,
      "outputs": [
        {
          "output_type": "stream",
          "name": "stdout",
          "text": [
            "enter the percentage66\n",
            "Grade B+\n"
          ]
        }
      ]
    },
    {
      "cell_type": "code",
      "source": [],
      "metadata": {
        "id": "x9qNZgrHlkRc"
      },
      "execution_count": null,
      "outputs": []
    }
  ]
}