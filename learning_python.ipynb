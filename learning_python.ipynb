{
  "nbformat": 4,
  "nbformat_minor": 0,
  "metadata": {
    "colab": {
      "provenance": [],
      "authorship_tag": "ABX9TyM/1cWjyXRdSUPmPDMfAfVx",
      "include_colab_link": true
    },
    "kernelspec": {
      "name": "python3",
      "display_name": "Python 3"
    },
    "language_info": {
      "name": "python"
    }
  },
  "cells": [
    {
      "cell_type": "markdown",
      "metadata": {
        "id": "view-in-github",
        "colab_type": "text"
      },
      "source": [
        "<a href=\"https://colab.research.google.com/github/smarikakc/python_learning/blob/main/learning_python.ipynb\" target=\"_parent\"><img src=\"https://colab.research.google.com/assets/colab-badge.svg\" alt=\"Open In Colab\"/></a>"
      ]
    },
    {
      "cell_type": "code",
      "execution_count": null,
      "metadata": {
        "id": "fuxTkvTjwxCv",
        "colab": {
          "base_uri": "https://localhost:8080/"
        },
        "outputId": "da57c885-7ba0-4fb7-a7cd-c7c8a5a7107c"
      },
      "outputs": [
        {
          "output_type": "stream",
          "name": "stdout",
          "text": [
            "Smarika K.C.\n"
          ]
        }
      ],
      "source": [
        "B=\"Smarika\"\n",
        "c=\"K.C.\"\n",
        "o=B+\" \"+c\n",
        "print(o)"
      ]
    },
    {
      "cell_type": "code",
      "source": [
        "n=\"Yogesh\"\n",
        "o=\"Bhattarai\"\n",
        "p=n+\" \"+o\n",
        "print(p)"
      ],
      "metadata": {
        "colab": {
          "base_uri": "https://localhost:8080/"
        },
        "id": "glJ8dFq2YAzK",
        "outputId": "104b247b-63a9-4ca6-e8da-31cd34fb5f5f"
      },
      "execution_count": 57,
      "outputs": [
        {
          "output_type": "stream",
          "name": "stdout",
          "text": [
            "Yogesh Bhattarai\n"
          ]
        }
      ]
    },
    {
      "cell_type": "code",
      "source": [
        "Name=input(\"enter your company name:\")\n",
        "Profession=input(\"enter what this company about:\")\n",
        "print(f\"My company name is {Name}, Our professions is {Profession}\")"
      ],
      "metadata": {
        "id": "t7ug_KvXYbkX",
        "colab": {
          "base_uri": "https://localhost:8080/"
        },
        "outputId": "0aa6fc78-6079-40c6-9493-724965d349d2"
      },
      "execution_count": null,
      "outputs": [
        {
          "output_type": "stream",
          "name": "stdout",
          "text": [
            "enter your company name:cognifynow\n",
            "enter what this company about:this is n i pltform\n",
            "My company name is cognifynow, Our professions this is n i pltform\n"
          ]
        }
      ]
    },
    {
      "cell_type": "code",
      "source": [
        "College=input(\"enter your college name:\")\n",
        "Branch=input(\"enter your branch:\")\n",
        "print(f\"My college name is {College}, the branch is in {Branch}\")"
      ],
      "metadata": {
        "colab": {
          "base_uri": "https://localhost:8080/"
        },
        "id": "k2-I5bMRbHYV",
        "outputId": "9eb9b319-c16c-4de1-97a4-ee3e355f31b6"
      },
      "execution_count": null,
      "outputs": [
        {
          "output_type": "stream",
          "name": "stdout",
          "text": [
            "enter your college name:gvjhbjk\n",
            "enter your branch:hghbkj\n",
            "My college name is gvjhbjk, the branch is in hghbkj\n"
          ]
        }
      ]
    },
    {
      "cell_type": "code",
      "source": [],
      "metadata": {
        "id": "MMqHbrDPdNSz"
      },
      "execution_count": null,
      "outputs": []
    },
    {
      "cell_type": "code",
      "source": [
        "ge=25\n",
        "if(ge>=25):\n",
        "  print(\"cble for mrrige\")\n",
        "else:\n",
        "  print(\"you re still child\")"
      ],
      "metadata": {
        "colab": {
          "base_uri": "https://localhost:8080/"
        },
        "id": "qtHs0LFpiXqt",
        "outputId": "0790057b-692d-4cc1-8fef-9470aa67843c"
      },
      "execution_count": null,
      "outputs": [
        {
          "output_type": "stream",
          "name": "stdout",
          "text": [
            "cble for mrrige\n"
          ]
        }
      ]
    },
    {
      "cell_type": "code",
      "source": [
        "old= 6\n",
        "if(old>18):\n",
        "  print(\"cbble to get the driving liscence\")\n",
        "else:\n",
        "  print(\"you re still child\")"
      ],
      "metadata": {
        "colab": {
          "base_uri": "https://localhost:8080/"
        },
        "id": "LYJbTAmmjFcW",
        "outputId": "431c3111-2485-459c-eff0-2feddd7254ff"
      },
      "execution_count": null,
      "outputs": [
        {
          "output_type": "stream",
          "name": "stdout",
          "text": [
            "you re still child\n"
          ]
        }
      ]
    },
    {
      "cell_type": "code",
      "source": [
        "a=int(input(\"Enter age:\"))\n",
        "if(a>40):\n",
        "  print(\"you re eligible for vote\")\n",
        "else:\n",
        "  print(\"you re not eligible for vote\")\n"
      ],
      "metadata": {
        "colab": {
          "base_uri": "https://localhost:8080/"
        },
        "id": "WiCdq5CCjzcM",
        "outputId": "d16d84b8-d006-4ede-d319-d1842d691797"
      },
      "execution_count": null,
      "outputs": [
        {
          "output_type": "stream",
          "name": "stdout",
          "text": [
            "Enter age:35\n",
            "you re not eligible for vote\n"
          ]
        }
      ]
    },
    {
      "cell_type": "code",
      "source": [
        "s=int(input(\"enter the age:\"))\n",
        "if(s>20):\n",
        "  print(\"you are eligible to get the citienship\")\n",
        "else:\n",
        "  print(\"you're not eligible to get the citienship\")\n"
      ],
      "metadata": {
        "id": "41-XBCzXkrcj",
        "colab": {
          "base_uri": "https://localhost:8080/"
        },
        "outputId": "1bd0f63a-cdce-438d-afa9-d9736736d40e"
      },
      "execution_count": null,
      "outputs": [
        {
          "output_type": "stream",
          "name": "stdout",
          "text": [
            "enter the age:50\n",
            "you are eligible to get the citienship\n"
          ]
        }
      ]
    },
    {
      "cell_type": "code",
      "source": [
        "s=int(input(\"enter the age:\"))\n",
        "if(s<18):\n",
        "  print(\"you're eligible to get the citienship\")\n",
        "else:\n",
        "  print(\"you're not eligible to get the citienship\")\n",
        "\n"
      ],
      "metadata": {
        "colab": {
          "base_uri": "https://localhost:8080/"
        },
        "id": "9yyC2dGGs8J-",
        "outputId": "d3cdf289-3cb0-4a62-f53e-b4793ae1b56e"
      },
      "execution_count": null,
      "outputs": [
        {
          "output_type": "stream",
          "name": "stdout",
          "text": [
            "enter the age:20\n",
            "you're not eligible to get the citienship\n"
          ]
        }
      ]
    },
    {
      "cell_type": "code",
      "source": [
        "w=int(input(\"enter the age:\"))\n",
        "if(w>14):\n",
        "  print(\"you're perfect for to attend the college:\")\n",
        "else:\n",
        "  print(\"you're not perfect for to attend the college\")"
      ],
      "metadata": {
        "colab": {
          "base_uri": "https://localhost:8080/"
        },
        "id": "HoBjLhPdv_R4",
        "outputId": "552ec587-2543-467e-b049-7a9c9e6f8f31"
      },
      "execution_count": null,
      "outputs": [
        {
          "output_type": "stream",
          "name": "stdout",
          "text": [
            "enter the age:16\n",
            "you're perfect for to attend the college:\n"
          ]
        }
      ]
    },
    {
      "cell_type": "code",
      "source": [
        "x=float(input(\"enter the GPA:\"))\n",
        "if(x>2.5):\n",
        "  print(\"you're capable to go the university\")\n",
        "else:\n",
        "  print(\"you're not capable to go the university\")\n"
      ],
      "metadata": {
        "colab": {
          "base_uri": "https://localhost:8080/"
        },
        "id": "Pjpwo21XxTXc",
        "outputId": "aa0a8b2a-814b-4595-ae9a-7275635a0b97"
      },
      "execution_count": null,
      "outputs": [
        {
          "output_type": "stream",
          "name": "stdout",
          "text": [
            "enter the GPA:2.3\n",
            "you're not capable to go the university\n"
          ]
        }
      ]
    },
    {
      "cell_type": "code",
      "source": [
        "GPA=int(input(\"Enter the GPA:\"))\n",
        "if(GPA>3):\n",
        "  print(\"You will select in the top university\")\n",
        "else:\n",
        "  print(\"you will not select in the top universty\")\n"
      ],
      "metadata": {
        "id": "_2t6bQfSyrIJ",
        "colab": {
          "base_uri": "https://localhost:8080/"
        },
        "outputId": "c6b90845-4723-494c-deae-de5b87256223"
      },
      "execution_count": 55,
      "outputs": [
        {
          "output_type": "stream",
          "name": "stdout",
          "text": [
            "Enter the GPA:2\n",
            "you will not select in the top universty\n"
          ]
        }
      ]
    },
    {
      "cell_type": "code",
      "source": [],
      "metadata": {
        "id": "MFpb24dqEXrc"
      },
      "execution_count": null,
      "outputs": []
    }
  ]
}