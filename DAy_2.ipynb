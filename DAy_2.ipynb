{
  "nbformat": 4,
  "nbformat_minor": 0,
  "metadata": {
    "colab": {
      "provenance": [],
      "authorship_tag": "ABX9TyPxpUh9EafGcCByK1hIqKOo",
      "include_colab_link": true
    },
    "kernelspec": {
      "name": "python3",
      "display_name": "Python 3"
    },
    "language_info": {
      "name": "python"
    }
  },
  "cells": [
    {
      "cell_type": "markdown",
      "metadata": {
        "id": "view-in-github",
        "colab_type": "text"
      },
      "source": [
        "<a href=\"https://colab.research.google.com/github/smarikakc/python_learning/blob/main/DAy_2.ipynb\" target=\"_parent\"><img src=\"https://colab.research.google.com/assets/colab-badge.svg\" alt=\"Open In Colab\"/></a>"
      ]
    },
    {
      "cell_type": "code",
      "execution_count": null,
      "metadata": {
        "colab": {
          "base_uri": "https://localhost:8080/"
        },
        "id": "8L0YxvA2dOv0",
        "outputId": "6d7255aa-2f15-4be9-d4a0-44a92ac4161b"
      },
      "outputs": [
        {
          "output_type": "stream",
          "name": "stdout",
          "text": [
            "Enter the percentage 45\n",
            "Fail\n"
          ]
        }
      ],
      "source": [
        "percent=int(input(\"Enter the percentage\"))\n",
        "if(percent>=80):\n",
        "  print(\"Grade B+\")\n",
        "elif(percent>=70):\n",
        "  print(\"Grade B\")\n",
        "elif(percent>=65):\n",
        "  print(\"Grade c+\")\n",
        "elif(percent>=55):\n",
        "  print(\"Grade C\")\n",
        "else:\n",
        "  print(\"Fail\")"
      ]
    },
    {
      "cell_type": "code",
      "source": [
        "name= input(\"Enter name:\")\n",
        "if(name==\"smarika\"):\n",
        "  print(f\"correct name spelled {name}\")\n",
        "else:\n",
        "  print(f\"incorrect name {name}\")"
      ],
      "metadata": {
        "colab": {
          "base_uri": "https://localhost:8080/"
        },
        "id": "2RdML5iVhD7w",
        "outputId": "5b1c8ac7-383d-49cb-d2e2-fc8a737fe3a4"
      },
      "execution_count": null,
      "outputs": [
        {
          "output_type": "stream",
          "name": "stdout",
          "text": [
            "Enter name:smarika\n",
            "correct name spelled smarika\n"
          ]
        }
      ]
    },
    {
      "cell_type": "code",
      "source": [
        "subject= input(\"enter the subject:\")\n",
        "if(subject==\"account\"):\n",
        "  print(f\"correct subject spelled {subject}\")\n",
        "else:\n",
        "  print(f\"incorrect subject {subject}\")"
      ],
      "metadata": {
        "colab": {
          "base_uri": "https://localhost:8080/"
        },
        "id": "X8Xm-Iqqj4hg",
        "outputId": "fced511e-ee8d-49e1-c0cf-26893fb041e0"
      },
      "execution_count": null,
      "outputs": [
        {
          "output_type": "stream",
          "name": "stdout",
          "text": [
            "enter the subject: Science\n",
            "incorrect subject  Science\n"
          ]
        }
      ]
    },
    {
      "cell_type": "code",
      "source": [
        "bag= input(\"enter the bag:\")\n",
        "if(bag==\"black\"):\n",
        "  print(f\"correct bag spelled {bag}\")\n",
        "else:\n",
        "  print(f\"incorrect bag {bag}\")"
      ],
      "metadata": {
        "colab": {
          "base_uri": "https://localhost:8080/"
        },
        "id": "NsK0q49Ol8tb",
        "outputId": "101edd3a-1806-459e-8249-e645fc219ac8"
      },
      "execution_count": 11,
      "outputs": [
        {
          "output_type": "stream",
          "name": "stdout",
          "text": [
            "enter the bag:black\n",
            "correct bag spelled black\n"
          ]
        }
      ]
    },
    {
      "cell_type": "code",
      "source": [
        "polish=input(\"enter polish name:\")\n",
        "if(polish==\"white\"):\n",
        "  print(f\"correct polish spelled {polish}\")\n",
        "else:\n",
        "  print(f\"incorrect polish {polish}\")\n",
        ""
      ],
      "metadata": {
        "id": "jTUw-nbgmktt",
        "colab": {
          "base_uri": "https://localhost:8080/"
        },
        "outputId": "2239ec7d-03ae-436a-a29c-bdb114000b01"
      },
      "execution_count": 12,
      "outputs": [
        {
          "output_type": "stream",
          "name": "stdout",
          "text": [
            "enter polish name: green\n",
            "incorrect polish  green\n"
          ]
        }
      ]
    },
    {
      "cell_type": "code",
      "source": [
        "percent=int(input(\"enter the percentage\"))\n",
        "if(percent>=70):\n",
        "  print(\"Grade B\")\n",
        "elif(percent>=60):\n",
        "  print(\"Grade C\")\n",
        "elif(percent>=65):\n",
        "  print(\"Grade D\")\n",
        "else:\n",
        "    print(\"Grade E\")"
      ],
      "metadata": {
        "colab": {
          "base_uri": "https://localhost:8080/"
        },
        "id": "gmd6TlZpoS7z",
        "outputId": "8f8543ac-a753-4d7b-bfe8-e3cf6c0e8514"
      },
      "execution_count": 16,
      "outputs": [
        {
          "output_type": "stream",
          "name": "stdout",
          "text": [
            "enter the percentage 77\n",
            "Grade B\n"
          ]
        }
      ]
    },
    {
      "cell_type": "code",
      "source": [
        "Car=input(\"enter the car name:\")\n",
        "if(Car==\"skyblue\"):\n",
        "  print(f\"correct car spelled {Car}\")\n",
        "else:\n",
        "  print(f\"incorrect car spelled {Car}\")"
      ],
      "metadata": {
        "colab": {
          "base_uri": "https://localhost:8080/"
        },
        "id": "DWGEJo9wq8JT",
        "outputId": "171aaf2c-89f3-4504-86df-991cf502b005"
      },
      "execution_count": 19,
      "outputs": [
        {
          "output_type": "stream",
          "name": "stdout",
          "text": [
            "enter the car name: blue\n",
            "incorrect car spelled  blue\n"
          ]
        }
      ]
    },
    {
      "cell_type": "code",
      "source": [
        "colour= input(\"enter colour:\")\n",
        "if(colour==\"green\"):\n",
        "  print(f\"correct colour spelled {colour}\")\n",
        "else:\n",
        "  print(f\"incorrect colour spelled {colour}\")\n"
      ],
      "metadata": {
        "colab": {
          "base_uri": "https://localhost:8080/"
        },
        "id": "4ncWH5ZVrysZ",
        "outputId": "718a2ec4-60f1-491d-ecb7-0ce2a8ff0ce5"
      },
      "execution_count": 21,
      "outputs": [
        {
          "output_type": "stream",
          "name": "stdout",
          "text": [
            "enter colour: yellow\n",
            "incorrect colour spelled  yellow\n"
          ]
        }
      ]
    },
    {
      "cell_type": "code",
      "source": [
        "percent=int(input(\"enter percent\"))\n",
        "if (percent<=50):\n",
        "  print(\"Fail\")\n",
        "elif(\"percent>=70\"):\n",
        "  print(\"Pass\")\n",
        "elif(\"percent<=60\"):\n",
        "  print(\"pass\")\n",
        "else:\n",
        "  print(\"Pass\")"
      ],
      "metadata": {
        "colab": {
          "base_uri": "https://localhost:8080/"
        },
        "id": "kJULU1B7sybO",
        "outputId": "92c497c4-efff-455c-ce62-1aca7e656307"
      },
      "execution_count": 24,
      "outputs": [
        {
          "output_type": "stream",
          "name": "stdout",
          "text": [
            "enter percent 20\n",
            "Fail\n"
          ]
        }
      ]
    },
    {
      "cell_type": "code",
      "source": [
        "x=print(\"Smarika\")"
      ],
      "metadata": {
        "colab": {
          "base_uri": "https://localhost:8080/"
        },
        "id": "GjW8Wgc5uiNx",
        "outputId": "d39a3fa0-901a-44ff-825d-bf52d71a1a7a"
      },
      "execution_count": 25,
      "outputs": [
        {
          "output_type": "stream",
          "name": "stdout",
          "text": [
            "Smarika\n"
          ]
        }
      ]
    },
    {
      "cell_type": "code",
      "source": [
        "x=\"smarika\"\n",
        "y=\"k.c.\"\n",
        "o=x+\" \"+y\n",
        "print(o)"
      ],
      "metadata": {
        "colab": {
          "base_uri": "https://localhost:8080/"
        },
        "id": "zcoZfVHjx6cJ",
        "outputId": "83234915-026b-4b43-9101-2326e13fa3f8"
      },
      "execution_count": 30,
      "outputs": [
        {
          "output_type": "stream",
          "name": "stdout",
          "text": [
            "smarika k.c.\n"
          ]
        }
      ]
    },
    {
      "cell_type": "code",
      "source": [
        "Name=input(\"enter your name:\")\n",
        "last=input(\"enter last name:\")\n",
        "p=Name+\" \"+last\n",
        "print(\"My name is\",p)\n"
      ],
      "metadata": {
        "colab": {
          "base_uri": "https://localhost:8080/"
        },
        "id": "DL0jvm0qyPic",
        "outputId": "bacf15cd-9b5c-4017-c0b3-856152242a49"
      },
      "execution_count": 33,
      "outputs": [
        {
          "output_type": "stream",
          "name": "stdout",
          "text": [
            "enter your name:Angat \n",
            "enter last name:Sitoulo\n",
            "My name is Angat  Sitoulo\n"
          ]
        }
      ]
    },
    {
      "cell_type": "code",
      "source": [
        "w=input(\"HELLO:\")\n",
        "print(\"GREETTING IN A POLITE WAY\",w)\n"
      ],
      "metadata": {
        "colab": {
          "base_uri": "https://localhost:8080/"
        },
        "id": "F-R-m0TW0e_Q",
        "outputId": "5b9cfe1f-960b-4458-b301-aae81761c6b8"
      },
      "execution_count": 38,
      "outputs": [
        {
          "output_type": "stream",
          "name": "stdout",
          "text": [
            "HELLO:YOUGESH\n",
            "GREETTING IN A POLITE WAY YOUGESH\n"
          ]
        }
      ]
    },
    {
      "cell_type": "code",
      "source": [
        "short=input(\"enter the brand\")\n",
        "if(short==\"OPPO\"):\n",
        "  print(f\"correct brand spelled {short}\")\n",
        "else:\n",
        "  print(f\"incorrect brand spelled {short}\")"
      ],
      "metadata": {
        "colab": {
          "base_uri": "https://localhost:8080/"
        },
        "id": "Vlcuf6331nWd",
        "outputId": "131b86a2-bd35-4272-90b9-e8aeb6fe0be6"
      },
      "execution_count": 47,
      "outputs": [
        {
          "output_type": "stream",
          "name": "stdout",
          "text": [
            "enter the brand OPPO\n",
            "incorrect brand spelled  OPPO\n"
          ]
        }
      ]
    },
    {
      "cell_type": "code",
      "source": [
        "percent=float(input(\"enter the number\"))\n",
        "if(percent>=99.01):\n",
        "  print(\"Pass\")\n",
        "elif(percent<=50.55):\n",
        "  print(\"Fail\")\n",
        "else:\n",
        "  print(\"Medium\")"
      ],
      "metadata": {
        "colab": {
          "base_uri": "https://localhost:8080/"
        },
        "id": "jBMmoZfYISqo",
        "outputId": "07fd2959-12fd-4d34-a7c1-7c70def4a5c4"
      },
      "execution_count": 41,
      "outputs": [
        {
          "output_type": "stream",
          "name": "stdout",
          "text": [
            "enter the number 67.33\n",
            "Medium\n"
          ]
        }
      ]
    },
    {
      "cell_type": "code",
      "source": [
        "Name=input(\"enter name\")\n",
        "if(Name==\"Nirmal\"):\n",
        "  print(f\"correct name spelled {Name}\")\n",
        "else:\n",
        "  print(f\"incorrect name spelled {Name}\")\n",
        ""
      ],
      "metadata": {
        "colab": {
          "base_uri": "https://localhost:8080/"
        },
        "id": "gCqijRFLKVZI",
        "outputId": "0b265a96-7744-4e5e-a502-a3d3fd1eacae"
      },
      "execution_count": 42,
      "outputs": [
        {
          "output_type": "stream",
          "name": "stdout",
          "text": [
            "enter name nirmal\n",
            "incorrect name spelled  nirmal\n"
          ]
        }
      ]
    },
    {
      "cell_type": "code",
      "source": [],
      "metadata": {
        "id": "JoZiNBnGLRSL"
      },
      "execution_count": null,
      "outputs": []
    }
  ]
}